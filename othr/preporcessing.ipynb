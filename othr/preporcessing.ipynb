{
 "cells": [
  {
   "cell_type": "code",
   "execution_count": null,
   "id": "fea808cf",
   "metadata": {},
   "outputs": [],
   "source": [
    "from sklearn.preprocessing import OneHotEncoder, LabelEncoder\n",
    "import pandas as pd\n",
    "\n",
    "def encode_categorical_columns(df_, onehot_threshold=10, label_threshold=50):\n",
    "    \"\"\"\n",
    "    Автоматичне кодування категоріальних фіч.\n",
    "    Використовує:\n",
    "    - OneHotEncoder, якщо кількість категорій <= onehot_threshold\n",
    "    - LabelEncoder, якщо між onehot_threshold та label_threshold\n",
    "    - Frequency Encoding, якщо > label_threshold\n",
    "    \"\"\"\n",
    "\n",
    "    df_processed = df_.copy()\n",
    "    decisions = {}\n",
    "    encoders = {}\n",
    "\n",
    "    categorical_cols = df_processed.select_dtypes(exclude=['number']).columns\n",
    "\n",
    "    for col in categorical_cols:\n",
    "        unique_count = df_processed[col].nunique()\n",
    "        n_rows = len(df_processed)\n",
    "        ratio = unique_count / n_rows\n",
    "\n",
    "        # ==== 1. One-Hot Encoding ====\n",
    "        if unique_count <= onehot_threshold:\n",
    "            ohe = OneHotEncoder(sparse_output=False, handle_unknown='ignore')\n",
    "            transformed = ohe.fit_transform(df_processed[[col]])\n",
    "            new_cols = [f\"{col}_{cat}\" for cat in ohe.categories_[0]]\n",
    "            df_encoded = pd.DataFrame(transformed, columns=new_cols, index=df_processed.index)\n",
    "            df_processed = pd.concat([df_processed.drop(columns=[col]), df_encoded], axis=1)\n",
    "            decisions[col] = f\"One-Hot Encoding ({unique_count} categories)\"\n",
    "            encoders[col] = ohe\n",
    "\n",
    "        # ==== 2. Label Encoding ====\n",
    "        elif unique_count <= label_threshold:\n",
    "            le = LabelEncoder()\n",
    "            df_processed[col] = le.fit_transform(df_processed[col].astype(str))\n",
    "            decisions[col] = f\"Label Encoding ({unique_count} categories)\"\n",
    "            encoders[col] = le\n",
    "\n",
    "        # ==== 3. Frequency Encoding ====\n",
    "        else:\n",
    "            freq = df_processed[col].value_counts(normalize=True)\n",
    "            df_processed[col] = df_processed[col].map(freq)\n",
    "            decisions[col] = f\"Frequency Encoding ({unique_count} categories)\"\n",
    "            encoders[col] = freq\n",
    "\n",
    "    return df_processed, decisions, encoders\n"
   ]
  },
  {
   "cell_type": "code",
   "execution_count": null,
   "id": "958157c9",
   "metadata": {},
   "outputs": [],
   "source": [
    "df_encoded, encoding_decisions, encoders = encode_categorical_columns(df)\n",
    "print(pd.DataFrame(list(encoding_decisions.items()), columns=['Column', 'Encoding type']))\n"
   ]
  }
 ],
 "metadata": {
  "language_info": {
   "name": "python"
  }
 },
 "nbformat": 4,
 "nbformat_minor": 5
}
